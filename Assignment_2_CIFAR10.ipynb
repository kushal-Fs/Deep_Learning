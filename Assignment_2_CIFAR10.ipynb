{
 "cells": [
  {
   "cell_type": "markdown",
   "metadata": {
    "id": "x-DPBgcWPm2S"
   },
   "source": [
    "# **Importing Libraries**"
   ]
  },
  {
   "cell_type": "code",
   "execution_count": null,
   "metadata": {
    "colab": {
     "base_uri": "https://localhost:8080/"
    },
    "id": "8FkwkiApp2O6",
    "outputId": "bf760359-0ab0-493b-8c39-9d931346756d"
   },
   "outputs": [
    {
     "name": "stdout",
     "output_type": "stream",
     "text": [
      "Collecting keras-cv\n",
      "  Downloading keras_cv-0.8.2-py3-none-any.whl (613 kB)\n",
      "\u001b[2K     \u001b[90m━━━━━━━━━━━━━━━━━━━━━━━━━━━━━━━━━━━━━━━━\u001b[0m \u001b[32m613.1/613.1 kB\u001b[0m \u001b[31m8.2 MB/s\u001b[0m eta \u001b[36m0:00:00\u001b[0m\n",
      "\u001b[?25hRequirement already satisfied: packaging in /usr/local/lib/python3.10/dist-packages (from keras-cv) (24.0)\n",
      "Requirement already satisfied: absl-py in /usr/local/lib/python3.10/dist-packages (from keras-cv) (1.4.0)\n",
      "Requirement already satisfied: regex in /usr/local/lib/python3.10/dist-packages (from keras-cv) (2023.12.25)\n",
      "Requirement already satisfied: tensorflow-datasets in /usr/local/lib/python3.10/dist-packages (from keras-cv) (4.9.4)\n",
      "Collecting keras-core (from keras-cv)\n",
      "  Downloading keras_core-0.1.7-py3-none-any.whl (950 kB)\n",
      "\u001b[2K     \u001b[90m━━━━━━━━━━━━━━━━━━━━━━━━━━━━━━━━━━━━━━━━\u001b[0m \u001b[32m950.8/950.8 kB\u001b[0m \u001b[31m37.9 MB/s\u001b[0m eta \u001b[36m0:00:00\u001b[0m\n",
      "\u001b[?25hRequirement already satisfied: kagglehub in /usr/local/lib/python3.10/dist-packages (from keras-cv) (0.2.1)\n",
      "Requirement already satisfied: requests in /usr/local/lib/python3.10/dist-packages (from kagglehub->keras-cv) (2.31.0)\n",
      "Requirement already satisfied: tqdm in /usr/local/lib/python3.10/dist-packages (from kagglehub->keras-cv) (4.66.2)\n",
      "Requirement already satisfied: numpy in /usr/local/lib/python3.10/dist-packages (from keras-core->keras-cv) (1.25.2)\n",
      "Requirement already satisfied: rich in /usr/local/lib/python3.10/dist-packages (from keras-core->keras-cv) (13.7.1)\n",
      "Collecting namex (from keras-core->keras-cv)\n",
      "  Downloading namex-0.0.7-py3-none-any.whl (5.8 kB)\n",
      "Requirement already satisfied: h5py in /usr/local/lib/python3.10/dist-packages (from keras-core->keras-cv) (3.9.0)\n",
      "Requirement already satisfied: dm-tree in /usr/local/lib/python3.10/dist-packages (from keras-core->keras-cv) (0.1.8)\n",
      "Requirement already satisfied: click in /usr/local/lib/python3.10/dist-packages (from tensorflow-datasets->keras-cv) (8.1.7)\n",
      "Requirement already satisfied: etils[enp,epath,etree]>=0.9.0 in /usr/local/lib/python3.10/dist-packages (from tensorflow-datasets->keras-cv) (1.7.0)\n",
      "Requirement already satisfied: promise in /usr/local/lib/python3.10/dist-packages (from tensorflow-datasets->keras-cv) (2.3)\n",
      "Requirement already satisfied: protobuf>=3.20 in /usr/local/lib/python3.10/dist-packages (from tensorflow-datasets->keras-cv) (3.20.3)\n",
      "Requirement already satisfied: psutil in /usr/local/lib/python3.10/dist-packages (from tensorflow-datasets->keras-cv) (5.9.5)\n",
      "Requirement already satisfied: tensorflow-metadata in /usr/local/lib/python3.10/dist-packages (from tensorflow-datasets->keras-cv) (1.14.0)\n",
      "Requirement already satisfied: termcolor in /usr/local/lib/python3.10/dist-packages (from tensorflow-datasets->keras-cv) (2.4.0)\n",
      "Requirement already satisfied: toml in /usr/local/lib/python3.10/dist-packages (from tensorflow-datasets->keras-cv) (0.10.2)\n",
      "Requirement already satisfied: wrapt in /usr/local/lib/python3.10/dist-packages (from tensorflow-datasets->keras-cv) (1.14.1)\n",
      "Requirement already satisfied: array-record>=0.5.0 in /usr/local/lib/python3.10/dist-packages (from tensorflow-datasets->keras-cv) (0.5.0)\n",
      "Requirement already satisfied: fsspec in /usr/local/lib/python3.10/dist-packages (from etils[enp,epath,etree]>=0.9.0->tensorflow-datasets->keras-cv) (2023.6.0)\n",
      "Requirement already satisfied: importlib_resources in /usr/local/lib/python3.10/dist-packages (from etils[enp,epath,etree]>=0.9.0->tensorflow-datasets->keras-cv) (6.4.0)\n",
      "Requirement already satisfied: typing_extensions in /usr/local/lib/python3.10/dist-packages (from etils[enp,epath,etree]>=0.9.0->tensorflow-datasets->keras-cv) (4.10.0)\n",
      "Requirement already satisfied: zipp in /usr/local/lib/python3.10/dist-packages (from etils[enp,epath,etree]>=0.9.0->tensorflow-datasets->keras-cv) (3.18.1)\n",
      "Requirement already satisfied: charset-normalizer<4,>=2 in /usr/local/lib/python3.10/dist-packages (from requests->kagglehub->keras-cv) (3.3.2)\n",
      "Requirement already satisfied: idna<4,>=2.5 in /usr/local/lib/python3.10/dist-packages (from requests->kagglehub->keras-cv) (3.6)\n",
      "Requirement already satisfied: urllib3<3,>=1.21.1 in /usr/local/lib/python3.10/dist-packages (from requests->kagglehub->keras-cv) (2.0.7)\n",
      "Requirement already satisfied: certifi>=2017.4.17 in /usr/local/lib/python3.10/dist-packages (from requests->kagglehub->keras-cv) (2024.2.2)\n",
      "Requirement already satisfied: six in /usr/local/lib/python3.10/dist-packages (from promise->tensorflow-datasets->keras-cv) (1.16.0)\n",
      "Requirement already satisfied: markdown-it-py>=2.2.0 in /usr/local/lib/python3.10/dist-packages (from rich->keras-core->keras-cv) (3.0.0)\n",
      "Requirement already satisfied: pygments<3.0.0,>=2.13.0 in /usr/local/lib/python3.10/dist-packages (from rich->keras-core->keras-cv) (2.16.1)\n",
      "Requirement already satisfied: googleapis-common-protos<2,>=1.52.0 in /usr/local/lib/python3.10/dist-packages (from tensorflow-metadata->tensorflow-datasets->keras-cv) (1.63.0)\n",
      "Requirement already satisfied: mdurl~=0.1 in /usr/local/lib/python3.10/dist-packages (from markdown-it-py>=2.2.0->rich->keras-core->keras-cv) (0.1.2)\n",
      "Installing collected packages: namex, keras-core, keras-cv\n",
      "Successfully installed keras-core-0.1.7 keras-cv-0.8.2 namex-0.0.7\n"
     ]
    }
   ],
   "source": [
    "!pip install keras-cv"
   ]
  },
  {
   "cell_type": "code",
   "execution_count": null,
   "metadata": {
    "colab": {
     "base_uri": "https://localhost:8080/"
    },
    "id": "SjAbBH6wPgtY",
    "outputId": "90172cf0-d1ae-47bf-90c2-5a326696eabe"
   },
   "outputs": [
    {
     "name": "stdout",
     "output_type": "stream",
     "text": [
      "Using TensorFlow backend\n"
     ]
    }
   ],
   "source": [
    "from sklearn.datasets import fetch_openml\n",
    "from sklearn.model_selection import train_test_split,StratifiedKFold,cross_val_predict, cross_val_score\n",
    "import cv2\n",
    "from matplotlib import pyplot as plt\n",
    "import pandas as pd\n",
    "import random\n",
    "from sklearn.svm import SVC\n",
    "from sklearn.neighbors import KNeighborsClassifier\n",
    "from sklearn.metrics import accuracy_score, classification_report, confusion_matrix\n",
    "from sklearn.naive_bayes import GaussianNB\n",
    "import tensorflow as tf\n",
    "from tensorflow.keras import datasets,layers,models\n",
    "from sklearn.ensemble import RandomForestClassifier\n",
    "import numpy as np\n",
    "import keras_cv"
   ]
  },
  {
   "cell_type": "markdown",
   "metadata": {
    "id": "zNEtjgu5Pva7"
   },
   "source": [
    "#**Loading CIFAR 10 Dataset and Displaying Details**"
   ]
  },
  {
   "cell_type": "code",
   "execution_count": null,
   "metadata": {
    "id": "Ts-rBN1PPtxK"
   },
   "outputs": [],
   "source": [
    "(train_images,train_labels),(test_images,test_labels) = datasets.cifar10.load_data()"
   ]
  },
  {
   "cell_type": "code",
   "execution_count": null,
   "metadata": {
    "colab": {
     "base_uri": "https://localhost:8080/"
    },
    "id": "jwJP7mVaQZtN",
    "outputId": "ca86536b-fec0-4bad-fd02-2b94ce1907f1"
   },
   "outputs": [
    {
     "data": {
      "text/plain": [
       "(50000, 32, 32, 3)"
      ]
     },
     "execution_count": 4,
     "metadata": {},
     "output_type": "execute_result"
    }
   ],
   "source": [
    "train_images.shape"
   ]
  },
  {
   "cell_type": "code",
   "execution_count": null,
   "metadata": {
    "colab": {
     "base_uri": "https://localhost:8080/"
    },
    "id": "sl_nPIpRtbD9",
    "outputId": "c4ac41be-4b6e-42e1-bc76-3c7c0a7d3f45"
   },
   "outputs": [
    {
     "data": {
      "text/plain": [
       "(50000, 1)"
      ]
     },
     "execution_count": 5,
     "metadata": {},
     "output_type": "execute_result"
    }
   ],
   "source": [
    "train_labels.shape"
   ]
  },
  {
   "cell_type": "code",
   "execution_count": null,
   "metadata": {
    "id": "YWuichoFl5hd"
   },
   "outputs": [],
   "source": [
    "augmented_images[9]"
   ]
  },
  {
   "cell_type": "code",
   "execution_count": null,
   "metadata": {
    "colab": {
     "base_uri": "https://localhost:8080/"
    },
    "id": "I5BAUZCI4gth",
    "outputId": "02ed9b52-2d2d-40c6-e190-9d47a43ad840"
   },
   "outputs": [
    {
     "data": {
      "text/plain": [
       "array([0, 1, 2, 3, 4, 5, 6, 7, 8, 9], dtype=uint8)"
      ]
     },
     "execution_count": 6,
     "metadata": {},
     "output_type": "execute_result"
    }
   ],
   "source": [
    "np.unique(train_labels)"
   ]
  },
  {
   "cell_type": "code",
   "execution_count": null,
   "metadata": {
    "colab": {
     "base_uri": "https://localhost:8080/"
    },
    "id": "4s9WPDuBtnnB",
    "outputId": "02446945-214b-4ab9-bda5-edbd4355ec16"
   },
   "outputs": [
    {
     "data": {
      "text/plain": [
       "(10000, 1)"
      ]
     },
     "execution_count": 7,
     "metadata": {},
     "output_type": "execute_result"
    }
   ],
   "source": [
    "test_labels.shape"
   ]
  },
  {
   "cell_type": "code",
   "execution_count": null,
   "metadata": {
    "colab": {
     "base_uri": "https://localhost:8080/"
    },
    "id": "nH284cZf5Gx4",
    "outputId": "12b80c25-7131-424b-8161-1e0ec872273a"
   },
   "outputs": [
    {
     "data": {
      "text/plain": [
       "array([0, 1, 2, 3, 4, 5, 6, 7, 8, 9], dtype=uint8)"
      ]
     },
     "execution_count": 8,
     "metadata": {},
     "output_type": "execute_result"
    }
   ],
   "source": [
    "np.unique(train_labels)"
   ]
  },
  {
   "cell_type": "code",
   "execution_count": null,
   "metadata": {
    "colab": {
     "base_uri": "https://localhost:8080/"
    },
    "id": "EhkcNO1JttRT",
    "outputId": "0486352d-c80b-4f0d-f8f9-d3fecb84197b"
   },
   "outputs": [
    {
     "data": {
      "text/plain": [
       "(10000, 32, 32, 3)"
      ]
     },
     "execution_count": 9,
     "metadata": {},
     "output_type": "execute_result"
    }
   ],
   "source": [
    "test_images.shape"
   ]
  },
  {
   "cell_type": "code",
   "execution_count": null,
   "metadata": {
    "colab": {
     "base_uri": "https://localhost:8080/",
     "height": 71
    },
    "id": "-W_1sz_r7PTx",
    "outputId": "aab14dbf-5f76-4eb5-9ea8-0fb77122ceab"
   },
   "outputs": [
    {
     "data": {
      "text/html": [
       "<style>\n",
       "      .ndarray_repr .ndarray_raw_data {\n",
       "        display: none;\n",
       "      }\n",
       "      .ndarray_repr.show_array .ndarray_raw_data {\n",
       "        display: block;\n",
       "      }\n",
       "      .ndarray_repr.show_array .ndarray_image_preview {\n",
       "        display: none;\n",
       "      }\n",
       "      </style>\n",
       "      <div id=\"id-e94d942b-4cc9-4a1f-984a-119acfee88f7\" class=\"ndarray_repr\"><pre>ndarray (32, 32, 3) <button style=\"padding: 0 2px;\">show data</button></pre><img src=\"data:image/png;base64,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\" class=\"ndarray_image_preview\" /><pre class=\"ndarray_raw_data\">array([[[125, 125, 116],\n",
       "        [110, 101,  91],\n",
       "        [102,  90,  83],\n",
       "        ...,\n",
       "        [202, 207, 214],\n",
       "        [200, 205, 212],\n",
       "        [202, 208, 214]],\n",
       "\n",
       "       [[142, 146, 142],\n",
       "        [146, 144, 139],\n",
       "        [176, 172, 170],\n",
       "        ...,\n",
       "        [195, 201, 205],\n",
       "        [198, 205, 209],\n",
       "        [204, 211, 215]],\n",
       "\n",
       "       [[180, 185, 183],\n",
       "        [143, 146, 146],\n",
       "        [156, 157, 157],\n",
       "        ...,\n",
       "        [122, 111, 113],\n",
       "        [139, 128, 131],\n",
       "        [158, 147, 150]],\n",
       "\n",
       "       ...,\n",
       "\n",
       "       [[104,  82,  41],\n",
       "        [101,  80,  39],\n",
       "        [101,  81,  38],\n",
       "        ...,\n",
       "        [126, 103,  67],\n",
       "        [126, 103,  69],\n",
       "        [125, 101,  68]],\n",
       "\n",
       "       [[104,  81,  40],\n",
       "        [105,  84,  41],\n",
       "        [109,  88,  43],\n",
       "        ...,\n",
       "        [138, 113,  78],\n",
       "        [137, 113,  80],\n",
       "        [137, 112,  81]],\n",
       "\n",
       "       [[105,  83,  42],\n",
       "        [108,  87,  45],\n",
       "        [115,  94,  50],\n",
       "        ...,\n",
       "        [143, 117,  82],\n",
       "        [143, 116,  84],\n",
       "        [144, 116,  86]]], dtype=uint8)</pre></div><script>\n",
       "      (() => {\n",
       "      const titles = ['show data', 'hide data'];\n",
       "      let index = 0\n",
       "      document.querySelector('#id-e94d942b-4cc9-4a1f-984a-119acfee88f7 button').onclick = (e) => {\n",
       "        document.querySelector('#id-e94d942b-4cc9-4a1f-984a-119acfee88f7').classList.toggle('show_array');\n",
       "        index = (++index) % 2;\n",
       "        document.querySelector('#id-e94d942b-4cc9-4a1f-984a-119acfee88f7 button').textContent = titles[index];\n",
       "        e.preventDefault();\n",
       "        e.stopPropagation();\n",
       "      }\n",
       "      })();\n",
       "    </script>"
      ],
      "text/plain": [
       "array([[[125, 125, 116],\n",
       "        [110, 101,  91],\n",
       "        [102,  90,  83],\n",
       "        ...,\n",
       "        [202, 207, 214],\n",
       "        [200, 205, 212],\n",
       "        [202, 208, 214]],\n",
       "\n",
       "       [[142, 146, 142],\n",
       "        [146, 144, 139],\n",
       "        [176, 172, 170],\n",
       "        ...,\n",
       "        [195, 201, 205],\n",
       "        [198, 205, 209],\n",
       "        [204, 211, 215]],\n",
       "\n",
       "       [[180, 185, 183],\n",
       "        [143, 146, 146],\n",
       "        [156, 157, 157],\n",
       "        ...,\n",
       "        [122, 111, 113],\n",
       "        [139, 128, 131],\n",
       "        [158, 147, 150]],\n",
       "\n",
       "       ...,\n",
       "\n",
       "       [[104,  82,  41],\n",
       "        [101,  80,  39],\n",
       "        [101,  81,  38],\n",
       "        ...,\n",
       "        [126, 103,  67],\n",
       "        [126, 103,  69],\n",
       "        [125, 101,  68]],\n",
       "\n",
       "       [[104,  81,  40],\n",
       "        [105,  84,  41],\n",
       "        [109,  88,  43],\n",
       "        ...,\n",
       "        [138, 113,  78],\n",
       "        [137, 113,  80],\n",
       "        [137, 112,  81]],\n",
       "\n",
       "       [[105,  83,  42],\n",
       "        [108,  87,  45],\n",
       "        [115,  94,  50],\n",
       "        ...,\n",
       "        [143, 117,  82],\n",
       "        [143, 116,  84],\n",
       "        [144, 116,  86]]], dtype=uint8)"
      ]
     },
     "execution_count": 10,
     "metadata": {},
     "output_type": "execute_result"
    }
   ],
   "source": [
    "train_images[9]"
   ]
  },
  {
   "cell_type": "markdown",
   "metadata": {
    "id": "nT9si5rMNii7"
   },
   "source": [
    "# **Displaying 5 Images with corresponding labels**"
   ]
  },
  {
   "cell_type": "code",
   "execution_count": null,
   "metadata": {
    "colab": {
     "base_uri": "https://localhost:8080/",
     "height": 1000
    },
    "id": "Qa03Ai4eMYPL",
    "outputId": "a5d19cc4-8441-4049-c45c-4aed71592f1f"
   },
   "outputs": [
    {
     "data": {
      "image/png": "[encoded data removed]",
      "text/plain": [
       "<Figure size 640x480 with 1 Axes>"
      ]
     },
     "metadata": {},
     "output_type": "display_data"
    },
    {
     "data": {
      "image/png": "[encoded data removed]",
      "text/plain": [
       "<Figure size 640x480 with 1 Axes>"
      ]
     },
     "metadata": {},
     "output_type": "display_data"
    },
    {
     "data": {
      "image/png": "[encoded data removed]",
      "text/plain": [
       "<Figure size 640x480 with 1 Axes>"
      ]
     },
     "metadata": {},
     "output_type": "display_data"
    },
    {
     "data": {
      "image/png": "[encoded data removed]",
      "text/plain": [
       "<Figure size 640x480 with 1 Axes>"
      ]
     },
     "metadata": {},
     "output_type": "display_data"
    },
    {
     "data": {
      "image/png": "[encoded data removed]",
      "text/plain": [
       "<Figure size 640x480 with 1 Axes>"
      ]
     },
     "metadata": {},
     "output_type": "display_data"
    }
   ],
   "source": [
    "randomNolist=[]\n",
    "for i in range(5):\n",
    "  randomNolist.append(random.randint(0,100))\n",
    "for i in randomNolist:\n",
    "  label = train_labels[i]\n",
    "  pixel = train_images[i]\n",
    "  pixel = np.array(pixel, dtype='uint8')\n",
    "  # pixel = pixel.reshape((28,28))\n",
    "  plt.title('Label is {label}'.format(label=label))\n",
    "  plt.imshow(pixel, cmap='gray')\n",
    "  plt.show()"
   ]
  },
  {
   "cell_type": "markdown",
   "metadata": {
    "id": "HwE16X-jsf1Y"
   },
   "source": [
    "# **Flattening**"
   ]
  },
  {
   "cell_type": "markdown",
   "metadata": {
    "id": "ZVguI6QGdC5x"
   },
   "source": [
    "## **Flatten Images**"
   ]
  },
  {
   "cell_type": "code",
   "execution_count": null,
   "metadata": {
    "id": "EQmV8ROXbg9q"
   },
   "outputs": [],
   "source": [
    "x_train = train_images.reshape(train_images.shape[0], -1)\n",
    "x_test = test_images.reshape(test_images.shape[0], -1)"
   ]
  },
  {
   "cell_type": "markdown",
   "metadata": {
    "id": "rwPnajp4dTUV"
   },
   "source": [
    "## **Flatten Labels**"
   ]
  },
  {
   "cell_type": "code",
   "execution_count": null,
   "metadata": {
    "id": "g09vt-8NdYvN"
   },
   "outputs": [],
   "source": [
    "y_train = train_labels.ravel()\n",
    "y_test = test_labels.ravel()"
   ]
  },
  {
   "cell_type": "markdown",
   "metadata": {
    "id": "kflszlKEsb5X"
   },
   "source": [
    "# **Normalizing**"
   ]
  },
  {
   "cell_type": "code",
   "execution_count": null,
   "metadata": {
    "id": "kfXN2TIrsctK"
   },
   "outputs": [],
   "source": [
    "from sklearn.preprocessing import MinMaxScaler\n",
    "min_max_scaler = MinMaxScaler()\n",
    "x_train = min_max_scaler.fit_transform(x_train)\n",
    "x_test = min_max_scaler.fit_transform(x_test)"
   ]
  },
  {
   "cell_type": "markdown",
   "metadata": {
    "id": "n3C_eLmSlnWH"
   },
   "source": [
    "#**Training Without Splitting the dataset**"
   ]
  },
  {
   "cell_type": "code",
   "execution_count": null,
   "metadata": {
    "id": "Wl4cBKMZxYhg"
   },
   "outputs": [],
   "source": [
    "rf_classifier = RandomForestClassifier(n_estimators=100, random_state=42)"
   ]
  },
  {
   "cell_type": "code",
   "execution_count": null,
   "metadata": {
    "colab": {
     "base_uri": "https://localhost:8080/",
     "height": 75
    },
    "id": "fi7Khm-Hxaq5",
    "outputId": "2012a734-6063-45ee-86a2-8c47bb3c7046"
   },
   "outputs": [
    {
     "data": {
      "text/html": [
       "<style>#sk-container-id-1 {color: black;background-color: white;}#sk-container-id-1 pre{padding: 0;}#sk-container-id-1 div.sk-toggleable {background-color: white;}#sk-container-id-1 label.sk-toggleable__label {cursor: pointer;display: block;width: 100%;margin-bottom: 0;padding: 0.3em;box-sizing: border-box;text-align: center;}#sk-container-id-1 label.sk-toggleable__label-arrow:before {content: \"▸\";float: left;margin-right: 0.25em;color: #696969;}#sk-container-id-1 label.sk-toggleable__label-arrow:hover:before {color: black;}#sk-container-id-1 div.sk-estimator:hover label.sk-toggleable__label-arrow:before {color: black;}#sk-container-id-1 div.sk-toggleable__content {max-height: 0;max-width: 0;overflow: hidden;text-align: left;background-color: #f0f8ff;}#sk-container-id-1 div.sk-toggleable__content pre {margin: 0.2em;color: black;border-radius: 0.25em;background-color: #f0f8ff;}#sk-container-id-1 input.sk-toggleable__control:checked~div.sk-toggleable__content {max-height: 200px;max-width: 100%;overflow: auto;}#sk-container-id-1 input.sk-toggleable__control:checked~label.sk-toggleable__label-arrow:before {content: \"▾\";}#sk-container-id-1 div.sk-estimator input.sk-toggleable__control:checked~label.sk-toggleable__label {background-color: #d4ebff;}#sk-container-id-1 div.sk-label input.sk-toggleable__control:checked~label.sk-toggleable__label {background-color: #d4ebff;}#sk-container-id-1 input.sk-hidden--visually {border: 0;clip: rect(1px 1px 1px 1px);clip: rect(1px, 1px, 1px, 1px);height: 1px;margin: -1px;overflow: hidden;padding: 0;position: absolute;width: 1px;}#sk-container-id-1 div.sk-estimator {font-family: monospace;background-color: #f0f8ff;border: 1px dotted black;border-radius: 0.25em;box-sizing: border-box;margin-bottom: 0.5em;}#sk-container-id-1 div.sk-estimator:hover {background-color: #d4ebff;}#sk-container-id-1 div.sk-parallel-item::after {content: \"\";width: 100%;border-bottom: 1px solid gray;flex-grow: 1;}#sk-container-id-1 div.sk-label:hover label.sk-toggleable__label {background-color: #d4ebff;}#sk-container-id-1 div.sk-serial::before {content: \"\";position: absolute;border-left: 1px solid gray;box-sizing: border-box;top: 0;bottom: 0;left: 50%;z-index: 0;}#sk-container-id-1 div.sk-serial {display: flex;flex-direction: column;align-items: center;background-color: white;padding-right: 0.2em;padding-left: 0.2em;position: relative;}#sk-container-id-1 div.sk-item {position: relative;z-index: 1;}#sk-container-id-1 div.sk-parallel {display: flex;align-items: stretch;justify-content: center;background-color: white;position: relative;}#sk-container-id-1 div.sk-item::before, #sk-container-id-1 div.sk-parallel-item::before {content: \"\";position: absolute;border-left: 1px solid gray;box-sizing: border-box;top: 0;bottom: 0;left: 50%;z-index: -1;}#sk-container-id-1 div.sk-parallel-item {display: flex;flex-direction: column;z-index: 1;position: relative;background-color: white;}#sk-container-id-1 div.sk-parallel-item:first-child::after {align-self: flex-end;width: 50%;}#sk-container-id-1 div.sk-parallel-item:last-child::after {align-self: flex-start;width: 50%;}#sk-container-id-1 div.sk-parallel-item:only-child::after {width: 0;}#sk-container-id-1 div.sk-dashed-wrapped {border: 1px dashed gray;margin: 0 0.4em 0.5em 0.4em;box-sizing: border-box;padding-bottom: 0.4em;background-color: white;}#sk-container-id-1 div.sk-label label {font-family: monospace;font-weight: bold;display: inline-block;line-height: 1.2em;}#sk-container-id-1 div.sk-label-container {text-align: center;}#sk-container-id-1 div.sk-container {/* jupyter's `normalize.less` sets `[hidden] { display: none; }` but bootstrap.min.css set `[hidden] { display: none !important; }` so we also need the `!important` here to be able to override the default hidden behavior on the sphinx rendered scikit-learn.org. See: https://github.com/scikit-learn/scikit-learn/issues/21755 */display: inline-block !important;position: relative;}#sk-container-id-1 div.sk-text-repr-fallback {display: none;}</style><div id=\"sk-container-id-1\" class=\"sk-top-container\"><div class=\"sk-text-repr-fallback\"><pre>RandomForestClassifier(random_state=42)</pre><b>In a Jupyter environment, please rerun this cell to show the HTML representation or trust the notebook. <br />On GitHub, the HTML representation is unable to render, please try loading this page with nbviewer.org.</b></div><div class=\"sk-container\" hidden><div class=\"sk-item\"><div class=\"sk-estimator sk-toggleable\"><input class=\"sk-toggleable__control sk-hidden--visually\" id=\"sk-estimator-id-1\" type=\"checkbox\" checked><label for=\"sk-estimator-id-1\" class=\"sk-toggleable__label sk-toggleable__label-arrow\">RandomForestClassifier</label><div class=\"sk-toggleable__content\"><pre>RandomForestClassifier(random_state=42)</pre></div></div></div></div></div>"
      ],
      "text/plain": [
       "RandomForestClassifier(random_state=42)"
      ]
     },
     "execution_count": 16,
     "metadata": {},
     "output_type": "execute_result"
    }
   ],
   "source": [
    "rf_classifier.fit(x_train, y_train)"
   ]
  },
  {
   "cell_type": "markdown",
   "metadata": {
    "id": "-bpnJIzotldj"
   },
   "source": [
    "##**Predict Testing Label**"
   ]
  },
  {
   "cell_type": "code",
   "execution_count": null,
   "metadata": {
    "id": "81TguhD7xtgw"
   },
   "outputs": [],
   "source": [
    "y_pred = rf_classifier.predict(x_test)"
   ]
  },
  {
   "cell_type": "code",
   "execution_count": null,
   "metadata": {
    "colab": {
     "base_uri": "https://localhost:8080/"
    },
    "id": "Ef98vaLZxvxQ",
    "outputId": "6629c471-5062-49e8-9612-c2d8459f687f"
   },
   "outputs": [
    {
     "name": "stdout",
     "output_type": "stream",
     "text": [
      "Accuracy: 0.47\n",
      "\n",
      "Classification Report:\n",
      "               precision    recall  f1-score   support\n",
      "\n",
      "           0       0.54      0.56      0.55      1000\n",
      "           1       0.52      0.54      0.53      1000\n",
      "           2       0.38      0.33      0.35      1000\n",
      "           3       0.33      0.28      0.30      1000\n",
      "           4       0.39      0.38      0.39      1000\n",
      "           5       0.43      0.40      0.41      1000\n",
      "           6       0.47      0.57      0.52      1000\n",
      "           7       0.51      0.45      0.48      1000\n",
      "           8       0.58      0.61      0.59      1000\n",
      "           9       0.47      0.52      0.50      1000\n",
      "\n",
      "    accuracy                           0.47     10000\n",
      "   macro avg       0.46      0.47      0.46     10000\n",
      "weighted avg       0.46      0.47      0.46     10000\n",
      "\n"
     ]
    }
   ],
   "source": [
    "accuracy = accuracy_score(y_test, y_pred)\n",
    "classification_rep = classification_report(y_test, y_pred)\n",
    "\n",
    "# Print the results\n",
    "print(f\"Accuracy: {accuracy:.2f}\")\n",
    "print(\"\\nClassification Report:\\n\", classification_rep)"
   ]
  },
  {
   "cell_type": "markdown",
   "metadata": {
    "id": "CWz0woDfdib9"
   },
   "source": [
    "#**Split Dataset 80:20**"
   ]
  },
  {
   "cell_type": "markdown",
   "metadata": {
    "id": "lQ6iFIbhmn1y"
   },
   "source": [
    "##**Splitting Datset**"
   ]
  },
  {
   "cell_type": "code",
   "execution_count": null,
   "metadata": {
    "id": "qTr0t5ncdm0X"
   },
   "outputs": [],
   "source": [
    "X_train, X_test, Y_train, Y_test = train_test_split(x_train, y_train, test_size=0.2, random_state=42)"
   ]
  },
  {
   "cell_type": "markdown",
   "metadata": {
    "id": "CRb_-fwzmujg"
   },
   "source": [
    "##**Model Training**"
   ]
  },
  {
   "cell_type": "code",
   "execution_count": null,
   "metadata": {
    "id": "yMyy5ppj11EO"
   },
   "outputs": [],
   "source": [
    "rf_classifier = RandomForestClassifier(n_estimators=100, random_state=42)"
   ]
  },
  {
   "cell_type": "code",
   "execution_count": null,
   "metadata": {
    "colab": {
     "base_uri": "https://localhost:8080/",
     "height": 75
    },
    "id": "zHDmDuEX11EX",
    "outputId": "1822e2ce-45cd-4f79-8303-62c4f980273e"
   },
   "outputs": [
    {
     "data": {
      "text/html": [
       "<style>#sk-container-id-2 {color: black;background-color: white;}#sk-container-id-2 pre{padding: 0;}#sk-container-id-2 div.sk-toggleable {background-color: white;}#sk-container-id-2 label.sk-toggleable__label {cursor: pointer;display: block;width: 100%;margin-bottom: 0;padding: 0.3em;box-sizing: border-box;text-align: center;}#sk-container-id-2 label.sk-toggleable__label-arrow:before {content: \"▸\";float: left;margin-right: 0.25em;color: #696969;}#sk-container-id-2 label.sk-toggleable__label-arrow:hover:before {color: black;}#sk-container-id-2 div.sk-estimator:hover label.sk-toggleable__label-arrow:before {color: black;}#sk-container-id-2 div.sk-toggleable__content {max-height: 0;max-width: 0;overflow: hidden;text-align: left;background-color: #f0f8ff;}#sk-container-id-2 div.sk-toggleable__content pre {margin: 0.2em;color: black;border-radius: 0.25em;background-color: #f0f8ff;}#sk-container-id-2 input.sk-toggleable__control:checked~div.sk-toggleable__content {max-height: 200px;max-width: 100%;overflow: auto;}#sk-container-id-2 input.sk-toggleable__control:checked~label.sk-toggleable__label-arrow:before {content: \"▾\";}#sk-container-id-2 div.sk-estimator input.sk-toggleable__control:checked~label.sk-toggleable__label {background-color: #d4ebff;}#sk-container-id-2 div.sk-label input.sk-toggleable__control:checked~label.sk-toggleable__label {background-color: #d4ebff;}#sk-container-id-2 input.sk-hidden--visually {border: 0;clip: rect(1px 1px 1px 1px);clip: rect(1px, 1px, 1px, 1px);height: 1px;margin: -1px;overflow: hidden;padding: 0;position: absolute;width: 1px;}#sk-container-id-2 div.sk-estimator {font-family: monospace;background-color: #f0f8ff;border: 1px dotted black;border-radius: 0.25em;box-sizing: border-box;margin-bottom: 0.5em;}#sk-container-id-2 div.sk-estimator:hover {background-color: #d4ebff;}#sk-container-id-2 div.sk-parallel-item::after {content: \"\";width: 100%;border-bottom: 1px solid gray;flex-grow: 1;}#sk-container-id-2 div.sk-label:hover label.sk-toggleable__label {background-color: #d4ebff;}#sk-container-id-2 div.sk-serial::before {content: \"\";position: absolute;border-left: 1px solid gray;box-sizing: border-box;top: 0;bottom: 0;left: 50%;z-index: 0;}#sk-container-id-2 div.sk-serial {display: flex;flex-direction: column;align-items: center;background-color: white;padding-right: 0.2em;padding-left: 0.2em;position: relative;}#sk-container-id-2 div.sk-item {position: relative;z-index: 1;}#sk-container-id-2 div.sk-parallel {display: flex;align-items: stretch;justify-content: center;background-color: white;position: relative;}#sk-container-id-2 div.sk-item::before, #sk-container-id-2 div.sk-parallel-item::before {content: \"\";position: absolute;border-left: 1px solid gray;box-sizing: border-box;top: 0;bottom: 0;left: 50%;z-index: -1;}#sk-container-id-2 div.sk-parallel-item {display: flex;flex-direction: column;z-index: 1;position: relative;background-color: white;}#sk-container-id-2 div.sk-parallel-item:first-child::after {align-self: flex-end;width: 50%;}#sk-container-id-2 div.sk-parallel-item:last-child::after {align-self: flex-start;width: 50%;}#sk-container-id-2 div.sk-parallel-item:only-child::after {width: 0;}#sk-container-id-2 div.sk-dashed-wrapped {border: 1px dashed gray;margin: 0 0.4em 0.5em 0.4em;box-sizing: border-box;padding-bottom: 0.4em;background-color: white;}#sk-container-id-2 div.sk-label label {font-family: monospace;font-weight: bold;display: inline-block;line-height: 1.2em;}#sk-container-id-2 div.sk-label-container {text-align: center;}#sk-container-id-2 div.sk-container {/* jupyter's `normalize.less` sets `[hidden] { display: none; }` but bootstrap.min.css set `[hidden] { display: none !important; }` so we also need the `!important` here to be able to override the default hidden behavior on the sphinx rendered scikit-learn.org. See: https://github.com/scikit-learn/scikit-learn/issues/21755 */display: inline-block !important;position: relative;}#sk-container-id-2 div.sk-text-repr-fallback {display: none;}</style><div id=\"sk-container-id-2\" class=\"sk-top-container\"><div class=\"sk-text-repr-fallback\"><pre>RandomForestClassifier(random_state=42)</pre><b>In a Jupyter environment, please rerun this cell to show the HTML representation or trust the notebook. <br />On GitHub, the HTML representation is unable to render, please try loading this page with nbviewer.org.</b></div><div class=\"sk-container\" hidden><div class=\"sk-item\"><div class=\"sk-estimator sk-toggleable\"><input class=\"sk-toggleable__control sk-hidden--visually\" id=\"sk-estimator-id-2\" type=\"checkbox\" checked><label for=\"sk-estimator-id-2\" class=\"sk-toggleable__label sk-toggleable__label-arrow\">RandomForestClassifier</label><div class=\"sk-toggleable__content\"><pre>RandomForestClassifier(random_state=42)</pre></div></div></div></div></div>"
      ],
      "text/plain": [
       "RandomForestClassifier(random_state=42)"
      ]
     },
     "execution_count": 21,
     "metadata": {},
     "output_type": "execute_result"
    }
   ],
   "source": [
    "rf_classifier.fit(X_train, Y_train)"
   ]
  },
  {
   "cell_type": "markdown",
   "metadata": {
    "id": "ffAMzPQx11EX"
   },
   "source": [
    "##**Predict Validation Label**"
   ]
  },
  {
   "cell_type": "code",
   "execution_count": null,
   "metadata": {
    "id": "LyieMuFn11EY"
   },
   "outputs": [],
   "source": [
    "y_pred = rf_classifier.predict(X_test)"
   ]
  },
  {
   "cell_type": "code",
   "execution_count": null,
   "metadata": {
    "colab": {
     "base_uri": "https://localhost:8080/"
    },
    "id": "NkOHD8FR11EY",
    "outputId": "739c99eb-0c32-48ab-d5f4-1089d93b3cb4"
   },
   "outputs": [
    {
     "name": "stdout",
     "output_type": "stream",
     "text": [
      "Accuracy: 0.45\n",
      "\n",
      "Classification Report:\n",
      "               precision    recall  f1-score   support\n",
      "\n",
      "           0       0.51      0.52      0.51       973\n",
      "           1       0.47      0.53      0.50       979\n",
      "           2       0.37      0.29      0.33      1030\n",
      "           3       0.35      0.28      0.31      1023\n",
      "           4       0.35      0.41      0.38       933\n",
      "           5       0.40      0.36      0.38      1015\n",
      "           6       0.46      0.55      0.50       996\n",
      "           7       0.50      0.45      0.48       994\n",
      "           8       0.58      0.59      0.58      1017\n",
      "           9       0.50      0.56      0.53      1040\n",
      "\n",
      "    accuracy                           0.45     10000\n",
      "   macro avg       0.45      0.45      0.45     10000\n",
      "weighted avg       0.45      0.45      0.45     10000\n",
      "\n"
     ]
    }
   ],
   "source": [
    "accuracy = accuracy_score(Y_test, y_pred)\n",
    "classification_rep = classification_report(Y_test, y_pred)\n",
    "\n",
    "# Print the results\n",
    "print(f\"Accuracy: {accuracy:.2f}\")\n",
    "print(\"\\nClassification Report:\\n\", classification_rep)"
   ]
  },
  {
   "cell_type": "markdown",
   "metadata": {
    "id": "JIYRR9mx2ES5"
   },
   "source": [
    "##**Predict Testing Label**"
   ]
  },
  {
   "cell_type": "code",
   "execution_count": null,
   "metadata": {
    "id": "s1_1vjsb2ES-"
   },
   "outputs": [],
   "source": [
    "y_pred = rf_classifier.predict(x_test)"
   ]
  },
  {
   "cell_type": "code",
   "execution_count": null,
   "metadata": {
    "colab": {
     "base_uri": "https://localhost:8080/"
    },
    "id": "-5uLdhCqZq6I",
    "outputId": "fdd51f0d-db8b-47c0-c56e-d44669c776d2"
   },
   "outputs": [
    {
     "data": {
      "text/plain": [
       "(10000,)"
      ]
     },
     "execution_count": 25,
     "metadata": {},
     "output_type": "execute_result"
    }
   ],
   "source": [
    "y_pred.shape"
   ]
  },
  {
   "cell_type": "code",
   "execution_count": null,
   "metadata": {
    "colab": {
     "base_uri": "https://localhost:8080/"
    },
    "id": "gbemSeKGaHtw",
    "outputId": "ba4a280b-3bbe-408e-ebca-46c0158ba9b7"
   },
   "outputs": [
    {
     "data": {
      "text/plain": [
       "(10000,)"
      ]
     },
     "execution_count": 26,
     "metadata": {},
     "output_type": "execute_result"
    }
   ],
   "source": [
    "y_test.shape"
   ]
  },
  {
   "cell_type": "code",
   "execution_count": null,
   "metadata": {
    "colab": {
     "base_uri": "https://localhost:8080/"
    },
    "id": "peuOD2l_2ES_",
    "outputId": "bff25b22-9207-4cb7-8edd-8c77f5999e9b"
   },
   "outputs": [
    {
     "name": "stdout",
     "output_type": "stream",
     "text": [
      "Accuracy: 0.46\n",
      "\n",
      "Classification Report:\n",
      "               precision    recall  f1-score   support\n",
      "\n",
      "           0       0.53      0.55      0.54      1000\n",
      "           1       0.51      0.55      0.53      1000\n",
      "           2       0.36      0.31      0.34      1000\n",
      "           3       0.35      0.28      0.31      1000\n",
      "           4       0.38      0.39      0.39      1000\n",
      "           5       0.42      0.39      0.40      1000\n",
      "           6       0.46      0.53      0.49      1000\n",
      "           7       0.50      0.44      0.47      1000\n",
      "           8       0.58      0.62      0.60      1000\n",
      "           9       0.48      0.54      0.51      1000\n",
      "\n",
      "    accuracy                           0.46     10000\n",
      "   macro avg       0.46      0.46      0.46     10000\n",
      "weighted avg       0.46      0.46      0.46     10000\n",
      "\n"
     ]
    }
   ],
   "source": [
    "accuracy = accuracy_score(y_test, y_pred)\n",
    "classification_rep = classification_report(y_test, y_pred)\n",
    "\n",
    "# Print the results\n",
    "print(f\"Accuracy: {accuracy:.2f}\")\n",
    "print(\"\\nClassification Report:\\n\", classification_rep)"
   ]
  },
  {
   "cell_type": "markdown",
   "metadata": {
    "id": "WgiEIrmKljbP"
   },
   "source": [
    "#**3 Fold Cross Validation**"
   ]
  },
  {
   "cell_type": "code",
   "execution_count": null,
   "metadata": {
    "colab": {
     "base_uri": "https://localhost:8080/"
    },
    "id": "OEgNOJDIa7iv",
    "outputId": "ef3b42ce-d36c-4d9e-b10b-93809222d71e"
   },
   "outputs": [
    {
     "name": "stdout",
     "output_type": "stream",
     "text": [
      "Fold 1 Accuracy: 45.43%\n",
      "Fold 2 Accuracy: 45.04%\n",
      "Fold 3 Accuracy: 44.93%\n",
      "\n",
      "Mean Accuracy: 45.13%\n",
      "Standard Deviation: 0.21%\n"
     ]
    }
   ],
   "source": [
    "rf_classifier = RandomForestClassifier(n_estimators=100)\n",
    "\n",
    "# Perform 3-fold cross-validation\n",
    "scores = cross_val_score(rf_classifier, x_train, y_train, cv=3, scoring='accuracy')\n",
    "\n",
    "# Print the cross-validation scores\n",
    "for i, score in enumerate(scores, 1):\n",
    "    print(f'Fold {i} Accuracy: {score * 100:.2f}%')\n",
    "\n",
    "# Print the mean and standard deviation of the cross-validation scores\n",
    "print(f'\\nMean Accuracy: {np.mean(scores) * 100:.2f}%')\n",
    "print(f'Standard Deviation: {np.std(scores) * 100:.2f}%')"
   ]
  },
  {
   "cell_type": "code",
   "execution_count": null,
   "metadata": {
    "id": "Z7xbG6hli2Da"
   },
   "outputs": [],
   "source": [
    "rf_classifier = RandomForestClassifier(n_estimators=100)\n",
    "\n",
    "# Perform 3-fold cross-validation\n",
    "scores = cross_val_score(rf_classifier, x_train, y_train, cv=5, scoring='accuracy')\n",
    "\n",
    "# Print the cross-validation scores\n",
    "for i, score in enumerate(scores, 1):\n",
    "    print(f'Fold {i} Accuracy: {score * 100:.2f}%')\n",
    "\n",
    "# Print the mean and standard deviation of the cross-validation scores\n",
    "print(f'\\nMean Accuracy: {np.mean(scores) * 100:.2f}%')\n",
    "print(f'Standard Deviation: {np.std(scores) * 100:.2f}%')"
   ]
  },
  {
   "cell_type": "code",
   "execution_count": null,
   "metadata": {
    "id": "ep7S6nP6i5sL"
   },
   "outputs": [],
   "source": [
    "rf_classifier = RandomForestClassifier(n_estimators=100)\n",
    "\n",
    "# Perform 3-fold cross-validation\n",
    "scores = cross_val_score(rf_classifier, x_train, y_train, cv=10, scoring='accuracy')\n",
    "\n",
    "# Print the cross-validation scores\n",
    "for i, score in enumerate(scores, 1):\n",
    "    print(f'Fold {i} Accuracy: {score * 100:.2f}%')\n",
    "\n",
    "# Print the mean and standard deviation of the cross-validation scores\n",
    "print(f'\\nMean Accuracy: {np.mean(scores) * 100:.2f}%')\n",
    "print(f'Standard Deviation: {np.std(scores) * 100:.2f}%')"
   ]
  },
  {
   "cell_type": "markdown",
   "metadata": {
    "id": "HSG2wICopuNZ"
   },
   "source": [
    "#**Gray Scale Image**"
   ]
  },
  {
   "cell_type": "markdown",
   "metadata": {
    "id": "bT5h_Awapluu"
   },
   "source": [
    "# #**Gray Scale Conversion**"
   ]
  },
  {
   "cell_type": "code",
   "execution_count": null,
   "metadata": {
    "colab": {
     "base_uri": "https://localhost:8080/"
    },
    "id": "OGpmDJLXpi0q",
    "outputId": "2449bddc-bd6a-44bf-cefd-f8fdc031eeec"
   },
   "outputs": [
    {
     "data": {
      "text/plain": [
       "<tf.Tensor: shape=(50000, 32, 32, 1), dtype=float32, numpy=\n",
       "array([[[[ 61.2111   ],\n",
       "         [ 44.984703 ],\n",
       "         [ 48.023003 ],\n",
       "         ...,\n",
       "         [137.0222   ],\n",
       "         [130.4358   ],\n",
       "         [128.76721  ]],\n",
       "\n",
       "        [[ 18.8024   ],\n",
       "         [  0.       ],\n",
       "         [ 10.0762005],\n",
       "         ...,\n",
       "         [ 94.6907   ],\n",
       "         [ 89.9901   ],\n",
       "         [ 94.03281  ]],\n",
       "\n",
       "        [[ 23.954502 ],\n",
       "         [  8.8914   ],\n",
       "         [ 31.4071   ],\n",
       "         ...,\n",
       "         [ 90.2782   ],\n",
       "         [ 90.876    ],\n",
       "         [ 80.21911  ]],\n",
       "\n",
       "        ...,\n",
       "\n",
       "        [[172.90521  ],\n",
       "         [153.76591  ],\n",
       "         [156.65321  ],\n",
       "         ...,\n",
       "         [133.875    ],\n",
       "         [ 35.733402 ],\n",
       "         [ 38.0797   ]],\n",
       "\n",
       "        [[146.339    ],\n",
       "         [128.6987   ],\n",
       "         [143.5434   ],\n",
       "         ...,\n",
       "         [152.5896   ],\n",
       "         [ 69.2633   ],\n",
       "         [ 59.7957   ]],\n",
       "\n",
       "        [[150.6573   ],\n",
       "         [136.6542   ],\n",
       "         [146.7751   ],\n",
       "         ...,\n",
       "         [188.53041  ],\n",
       "         [123.97591  ],\n",
       "         [ 98.97671  ]]],\n",
       "\n",
       "\n",
       "       [[[171.24759  ],\n",
       "         [133.5844   ],\n",
       "         [103.262505 ],\n",
       "         ...,\n",
       "         [ 91.05891  ],\n",
       "         [ 86.92831  ],\n",
       "         [ 79.14011  ]],\n",
       "\n",
       "        [[155.032    ],\n",
       "         [150.7075   ],\n",
       "         [124.1895   ],\n",
       "         ...,\n",
       "         [ 95.6994   ],\n",
       "         [ 77.0433   ],\n",
       "         [ 71.02691  ]],\n",
       "\n",
       "        [[151.527    ],\n",
       "         [144.2351   ],\n",
       "         [114.64651  ],\n",
       "         ...,\n",
       "         [ 79.0431   ],\n",
       "         [ 67.685196 ],\n",
       "         [ 66.7993   ]],\n",
       "\n",
       "        ...,\n",
       "\n",
       "        [[169.2605   ],\n",
       "         [155.2664   ],\n",
       "         [159.3306   ],\n",
       "         ...,\n",
       "         [ 36.615803 ],\n",
       "         [ 55.841904 ],\n",
       "         [ 86.8927   ]],\n",
       "\n",
       "        [[154.3085   ],\n",
       "         [150.6724   ],\n",
       "         [158.22011  ],\n",
       "         ...,\n",
       "         [ 96.3217   ],\n",
       "         [117.3627   ],\n",
       "         [125.116905 ]],\n",
       "\n",
       "        [[149.2767   ],\n",
       "         [148.01021  ],\n",
       "         [155.4547   ],\n",
       "         ...,\n",
       "         [136.6597   ],\n",
       "         [137.58871  ],\n",
       "         [137.2297   ]]],\n",
       "\n",
       "\n",
       "       [[[254.97452  ],\n",
       "         [252.9747   ],\n",
       "         [252.9747   ],\n",
       "         ...,\n",
       "         [252.9747   ],\n",
       "         [252.9747   ],\n",
       "         [252.9747   ]],\n",
       "\n",
       "        [[254.97452  ],\n",
       "         [254.97452  ],\n",
       "         [254.97452  ],\n",
       "         ...,\n",
       "         [254.97452  ],\n",
       "         [254.97452  ],\n",
       "         [254.97452  ]],\n",
       "\n",
       "        [[254.97452  ],\n",
       "         [253.97461  ],\n",
       "         [253.97461  ],\n",
       "         ...,\n",
       "         [253.97461  ],\n",
       "         [253.97461  ],\n",
       "         [253.97461  ]],\n",
       "\n",
       "        ...,\n",
       "\n",
       "        [[116.983696 ],\n",
       "         [115.0979   ],\n",
       "         [109.2125   ],\n",
       "         ...,\n",
       "         [ 78.187805 ],\n",
       "         [ 77.4868   ],\n",
       "         [ 77.4868   ]],\n",
       "\n",
       "        [[114.9839   ],\n",
       "         [108.0986   ],\n",
       "         [102.9851   ],\n",
       "         ...,\n",
       "         [ 72.6722   ],\n",
       "         [ 74.08501  ],\n",
       "         [ 81.97021  ]],\n",
       "\n",
       "        [[109.984406 ],\n",
       "         [102.9851   ],\n",
       "         [ 98.985504 ],\n",
       "         ...,\n",
       "         [ 82.671196 ],\n",
       "         [ 82.9701   ],\n",
       "         [ 83.97     ]]],\n",
       "\n",
       "\n",
       "       ...,\n",
       "\n",
       "\n",
       "       [[[141.7375   ],\n",
       "         [142.514    ],\n",
       "         [143.33981  ],\n",
       "         ...,\n",
       "         [158.4561   ],\n",
       "         [132.3601   ],\n",
       "         [135.02411  ]],\n",
       "\n",
       "        [[150.5473   ],\n",
       "         [149.6596   ],\n",
       "         [149.72601  ],\n",
       "         ...,\n",
       "         [176.2624   ],\n",
       "         [169.5279   ],\n",
       "         [142.0854   ]],\n",
       "\n",
       "        [[171.9492   ],\n",
       "         [158.8006   ],\n",
       "         [161.25809  ],\n",
       "         ...,\n",
       "         [194.1422   ],\n",
       "         [131.5721   ],\n",
       "         [ 74.865906 ]],\n",
       "\n",
       "        ...,\n",
       "\n",
       "        [[ 76.9707   ],\n",
       "         [ 60.5747   ],\n",
       "         [ 65.176605 ],\n",
       "         ...,\n",
       "         [ 35.8573   ],\n",
       "         [ 33.2229   ],\n",
       "         [ 43.625698 ]],\n",
       "\n",
       "        [[ 66.698906 ],\n",
       "         [ 67.3335   ],\n",
       "         [ 75.1523   ],\n",
       "         ...,\n",
       "         [ 43.557602 ],\n",
       "         [ 31.6683   ],\n",
       "         [ 19.2413   ]],\n",
       "\n",
       "        [[ 54.3456   ],\n",
       "         [ 62.5234   ],\n",
       "         [ 71.8151   ],\n",
       "         ...,\n",
       "         [ 47.3723   ],\n",
       "         [ 39.0419   ],\n",
       "         [ 27.483799 ]]],\n",
       "\n",
       "\n",
       "       [[[207.7091   ],\n",
       "         [204.5954   ],\n",
       "         [203.59552  ],\n",
       "         ...,\n",
       "         [192.3085   ],\n",
       "         [190.5968   ],\n",
       "         [189.4721   ]],\n",
       "\n",
       "        [[208.50261  ],\n",
       "         [205.5029   ],\n",
       "         [204.50302  ],\n",
       "         ...,\n",
       "         [189.4937   ],\n",
       "         [188.08092  ],\n",
       "         [186.07031  ]],\n",
       "\n",
       "        [[218.5402   ],\n",
       "         [215.4265   ],\n",
       "         [214.4266   ],\n",
       "         ...,\n",
       "         [189.1625   ],\n",
       "         [187.56479  ],\n",
       "         [187.1411   ]],\n",
       "\n",
       "        ...,\n",
       "\n",
       "        [[199.3193   ],\n",
       "         [195.0917   ],\n",
       "         [195.4507   ],\n",
       "         ...,\n",
       "         [132.3135   ],\n",
       "         [158.2678   ],\n",
       "         [163.11021  ]],\n",
       "\n",
       "        [[190.09221  ],\n",
       "         [180.86511  ],\n",
       "         [171.524    ],\n",
       "         ...,\n",
       "         [171.82121  ],\n",
       "         [169.2945   ],\n",
       "         [169.0665   ]],\n",
       "\n",
       "        [[189.8472   ],\n",
       "         [181.2071   ],\n",
       "         [169.9802   ],\n",
       "         ...,\n",
       "         [185.55951  ],\n",
       "         [189.02141  ],\n",
       "         [189.30951  ]]],\n",
       "\n",
       "\n",
       "       [[[230.11711  ],\n",
       "         [237.81741  ],\n",
       "         [236.63261  ],\n",
       "         ...,\n",
       "         [219.9763   ],\n",
       "         [223.6339   ],\n",
       "         [223.8188   ]],\n",
       "\n",
       "        [[222.18881  ],\n",
       "         [240.1161   ],\n",
       "         [235.04572  ],\n",
       "         ...,\n",
       "         [224.45969  ],\n",
       "         [228.81831  ],\n",
       "         [211.70601  ]],\n",
       "\n",
       "        [[208.64171  ],\n",
       "         [233.37262  ],\n",
       "         [233.63289  ],\n",
       "         ...,\n",
       "         [221.34601  ],\n",
       "         [220.759    ],\n",
       "         [204.0488   ]],\n",
       "\n",
       "        ...,\n",
       "\n",
       "        [[144.166    ],\n",
       "         [135.569    ],\n",
       "         [127.6838   ],\n",
       "         ...,\n",
       "         [222.1196   ],\n",
       "         [228.233    ],\n",
       "         [240.63393  ]],\n",
       "\n",
       "        [[132.7973   ],\n",
       "         [127.086006 ],\n",
       "         [121.4995   ],\n",
       "         ...,\n",
       "         [180.05292  ],\n",
       "         [200.93681  ],\n",
       "         [210.82181  ]],\n",
       "\n",
       "        [[119.314804 ],\n",
       "         [115.90221  ],\n",
       "         [116.614006 ],\n",
       "         ...,\n",
       "         [177.1241   ],\n",
       "         [163.7556   ],\n",
       "         [162.7557   ]]]], dtype=float32)>"
      ]
     },
     "execution_count": 42,
     "metadata": {},
     "output_type": "execute_result"
    }
   ],
   "source": [
    "to_grayscale = keras_cv.layers.Grayscale()\n",
    "train_images = to_grayscale(train_images)\n",
    "train_images"
   ]
  },
  {
   "cell_type": "code",
   "execution_count": null,
   "metadata": {
    "colab": {
     "base_uri": "https://localhost:8080/"
    },
    "id": "9Idtddpzpqvv",
    "outputId": "b880d5b3-3fc4-44e4-8872-28a3e0616a10"
   },
   "outputs": [
    {
     "data": {
      "text/plain": [
       "<tf.Tensor: shape=(10000, 32, 32, 1), dtype=float32, numpy=\n",
       "array([[[[118.5562   ],\n",
       "         [118.0401   ],\n",
       "         [123.22451  ],\n",
       "         ...,\n",
       "         [100.8183   ],\n",
       "         [ 95.1824   ],\n",
       "         [ 88.3294   ]],\n",
       "\n",
       "        [[116.99081  ],\n",
       "         [114.2639   ],\n",
       "         [119.5731   ],\n",
       "         ...,\n",
       "         [ 99.9494   ],\n",
       "         [ 94.4275   ],\n",
       "         [ 91.1011   ]],\n",
       "\n",
       "        [[115.061905 ],\n",
       "         [112.8789   ],\n",
       "         [116.4872   ],\n",
       "         ...,\n",
       "         [102.949104 ],\n",
       "         [ 98.498    ],\n",
       "         [ 91.873    ]],\n",
       "\n",
       "        ...,\n",
       "\n",
       "        [[113.29121  ],\n",
       "         [ 88.1258   ],\n",
       "         [ 76.5399   ],\n",
       "         ...,\n",
       "         [ 84.9412   ],\n",
       "         [ 53.7657   ],\n",
       "         [ 76.329    ]],\n",
       "\n",
       "        [[105.476906 ],\n",
       "         [ 91.392105 ],\n",
       "         [ 75.404495 ],\n",
       "         ...,\n",
       "         [ 70.7254   ],\n",
       "         [ 71.1661   ],\n",
       "         [ 55.744003 ]],\n",
       "\n",
       "        [[ 97.1896   ],\n",
       "         [ 95.3594   ],\n",
       "         [ 80.7415   ],\n",
       "         ...,\n",
       "         [ 66.5086   ],\n",
       "         [ 74.176605 ],\n",
       "         [ 58.145905 ]]],\n",
       "\n",
       "\n",
       "       [[[234.9765   ],\n",
       "         [230.9769   ],\n",
       "         [231.9768   ],\n",
       "         ...,\n",
       "         [232.9767   ],\n",
       "         [232.9767   ],\n",
       "         [231.9768   ]],\n",
       "\n",
       "        [[237.97621  ],\n",
       "         [234.9765   ],\n",
       "         [234.9765   ],\n",
       "         ...,\n",
       "         [235.97641  ],\n",
       "         [235.97641  ],\n",
       "         [234.9765   ]],\n",
       "\n",
       "        [[236.97632  ],\n",
       "         [233.9766   ],\n",
       "         [233.9766   ],\n",
       "         ...,\n",
       "         [234.9765   ],\n",
       "         [234.9765   ],\n",
       "         [233.9766   ]],\n",
       "\n",
       "        ...,\n",
       "\n",
       "        [[ 94.263306 ],\n",
       "         [ 47.007698 ],\n",
       "         [ 20.4341   ],\n",
       "         ...,\n",
       "         [178.92812  ],\n",
       "         [192.0408   ],\n",
       "         [197.68121  ]],\n",
       "\n",
       "        [[ 90.2098   ],\n",
       "         [ 51.3124   ],\n",
       "         [ 39.0964   ],\n",
       "         ...,\n",
       "         [183.8136   ],\n",
       "         [195.0405   ],\n",
       "         [197.26831  ]],\n",
       "\n",
       "        [[ 94.1555   ],\n",
       "         [ 68.0288   ],\n",
       "         [ 60.997204 ],\n",
       "         ...,\n",
       "         [177.92819  ],\n",
       "         [190.041    ],\n",
       "         [195.68141  ]]],\n",
       "\n",
       "\n",
       "       [[[184.0642   ],\n",
       "         [181.84721  ],\n",
       "         [161.1051   ],\n",
       "         ...,\n",
       "         [230.4222   ],\n",
       "         [238.83429  ],\n",
       "         [240.64922  ]],\n",
       "\n",
       "        [[194.319    ],\n",
       "         [193.9878   ],\n",
       "         [171.35991  ],\n",
       "         ...,\n",
       "         [232.4328   ],\n",
       "         [246.43141  ],\n",
       "         [247.1324   ]],\n",
       "\n",
       "        [[195.6456   ],\n",
       "         [195.3144   ],\n",
       "         [174.68631  ],\n",
       "         ...,\n",
       "         [229.61801  ],\n",
       "         [249.502    ],\n",
       "         [244.6165   ]],\n",
       "\n",
       "        ...,\n",
       "\n",
       "        [[ 37.8759   ],\n",
       "         [ 36.876    ],\n",
       "         [ 32.8764   ],\n",
       "         ...,\n",
       "         [ 39.7833   ],\n",
       "         [ 11.9171   ],\n",
       "         [  5.8746004]],\n",
       "\n",
       "        [[ 31.278702 ],\n",
       "         [ 35.2783   ],\n",
       "         [ 33.2785   ],\n",
       "         ...,\n",
       "         [ 20.1551   ],\n",
       "         [  5.0596   ],\n",
       "         [  5.9455004]],\n",
       "\n",
       "        [[ 37.794205 ],\n",
       "         [ 39.908    ],\n",
       "         [ 41.907803 ],\n",
       "         ...,\n",
       "         [  5.9285   ],\n",
       "         [  4.4726   ],\n",
       "         [  7.5863   ]]],\n",
       "\n",
       "\n",
       "       ...,\n",
       "\n",
       "\n",
       "       [[[ 16.151001 ],\n",
       "         [ 15.1511   ],\n",
       "         [ 13.9555   ],\n",
       "         ...,\n",
       "         [  9.070001 ],\n",
       "         [ 11.0698   ],\n",
       "         [ 12.069701 ]],\n",
       "\n",
       "        [[ 17.1509   ],\n",
       "         [ 16.852001 ],\n",
       "         [ 16.7272   ],\n",
       "         ...,\n",
       "         [  9.070001 ],\n",
       "         [  9.070001 ],\n",
       "         [ 11.0698   ]],\n",
       "\n",
       "        [[ 17.1509   ],\n",
       "         [ 17.623901 ],\n",
       "         [ 17.798    ],\n",
       "         ...,\n",
       "         [ 11.0698   ],\n",
       "         [ 11.0698   ],\n",
       "         [ 12.069701 ]],\n",
       "\n",
       "        ...,\n",
       "\n",
       "        [[ 26.0207   ],\n",
       "         [ 27.134602 ],\n",
       "         [ 27.134602 ],\n",
       "         ...,\n",
       "         [ 28.9722   ],\n",
       "         [ 29.955101 ],\n",
       "         [ 23.4027   ]],\n",
       "\n",
       "        [[ 26.1347   ],\n",
       "         [ 27.134602 ],\n",
       "         [ 27.134602 ],\n",
       "         ...,\n",
       "         [ 28.0863   ],\n",
       "         [ 28.542301 ],\n",
       "         [ 25.744501 ]],\n",
       "\n",
       "        [[ 24.134901 ],\n",
       "         [ 25.134802 ],\n",
       "         [ 26.1347   ],\n",
       "         ...,\n",
       "         [ 26.3746   ],\n",
       "         [ 27.3144   ],\n",
       "         [ 24.5705   ]]],\n",
       "\n",
       "\n",
       "       [[[ 32.3205   ],\n",
       "         [ 25.9575   ],\n",
       "         [ 32.993702 ],\n",
       "         ...,\n",
       "         [ 75.2589   ],\n",
       "         [106.5978   ],\n",
       "         [ 85.1485   ]],\n",
       "\n",
       "        [[ 18.9458   ],\n",
       "         [ 28.495    ],\n",
       "         [ 30.015598 ],\n",
       "         ...,\n",
       "         [128.7635   ],\n",
       "         [163.3301   ],\n",
       "         [114.6986   ]],\n",
       "\n",
       "        [[ 19.5158   ],\n",
       "         [ 22.1905   ],\n",
       "         [ 36.3786   ],\n",
       "         ...,\n",
       "         [167.7426   ],\n",
       "         [171.5403   ],\n",
       "         [127.609406 ]],\n",
       "\n",
       "        ...,\n",
       "\n",
       "        [[114.847    ],\n",
       "         [117.84671  ],\n",
       "         [119.54761  ],\n",
       "         ...,\n",
       "         [113.70531  ],\n",
       "         [112.8302   ],\n",
       "         [107.232895 ]],\n",
       "\n",
       "        [[117.732704 ],\n",
       "         [117.4446   ],\n",
       "         [121.1453   ],\n",
       "         ...,\n",
       "         [117.5909   ],\n",
       "         [113.71611  ],\n",
       "         [107.5318   ]],\n",
       "\n",
       "        [[111.2495   ],\n",
       "         [109.260506 ],\n",
       "         [114.55891  ],\n",
       "         ...,\n",
       "         [109.7057   ],\n",
       "         [109.830505 ],\n",
       "         [107.05881  ]]],\n",
       "\n",
       "\n",
       "       [[[ 76.1557   ],\n",
       "         [102.63521  ],\n",
       "         [104.809105 ],\n",
       "         ...,\n",
       "         [145.7295   ],\n",
       "         [145.37051  ],\n",
       "         [212.3037   ]],\n",
       "\n",
       "        [[ 71.4551   ],\n",
       "         [ 88.4086   ],\n",
       "         [ 73.584206 ],\n",
       "         ...,\n",
       "         [ 91.317505 ],\n",
       "         [ 78.47591  ],\n",
       "         [129.329    ]],\n",
       "\n",
       "        [[ 71.4551   ],\n",
       "         [ 94.066    ],\n",
       "         [ 68.6448   ],\n",
       "         ...,\n",
       "         [ 77.64561  ],\n",
       "         [ 58.3917   ],\n",
       "         [ 69.8358   ]],\n",
       "\n",
       "        ...,\n",
       "\n",
       "        [[122.8447   ],\n",
       "         [128.5668   ],\n",
       "         [125.09411  ],\n",
       "         ...,\n",
       "         [105.1222   ],\n",
       "         [ 60.0218   ],\n",
       "         [ 27.1113   ]],\n",
       "\n",
       "        [[115.7745   ],\n",
       "         [120.382706 ],\n",
       "         [123.8061   ],\n",
       "         ...,\n",
       "         [113.1815   ],\n",
       "         [ 64.6084   ],\n",
       "         [ 26.9973   ]],\n",
       "\n",
       "        [[115.372406 ],\n",
       "         [118.4969   ],\n",
       "         [125.20811  ],\n",
       "         ...,\n",
       "         [112.8934   ],\n",
       "         [ 65.0922   ],\n",
       "         [ 26.2963   ]]]], dtype=float32)>"
      ]
     },
     "execution_count": 41,
     "metadata": {},
     "output_type": "execute_result"
    }
   ],
   "source": [
    "to_grayscale = keras_cv.layers.Grayscale()\n",
    "test_images = to_grayscale(test_images)\n",
    "test_images"
   ]
  },
  {
   "cell_type": "code",
   "execution_count": null,
   "metadata": {
    "colab": {
     "base_uri": "https://localhost:8080/",
     "height": 447
    },
    "id": "reidlHO8qazc",
    "outputId": "6aeac76e-381c-49b1-e38d-5cc864ed12ef"
   },
   "outputs": [
    {
     "data": {
      "text/plain": [
       "<matplotlib.image.AxesImage at 0x7b585b75bfd0>"
      ]
     },
     "execution_count": 44,
     "metadata": {},
     "output_type": "execute_result"
    },
    {
     "data": {
      "image/png": "[encoded data removed]",
      "text/plain": [
       "<Figure size 640x480 with 1 Axes>"
      ]
     },
     "metadata": {},
     "output_type": "display_data"
    }
   ],
   "source": [
    "plt.imshow(train_images[9])"
   ]
  },
  {
   "cell_type": "markdown",
   "metadata": {
    "id": "WDl4IyOmqazh"
   },
   "source": [
    "# **Displaying 5 Images with corresponding labels**"
   ]
  },
  {
   "cell_type": "code",
   "execution_count": null,
   "metadata": {
    "colab": {
     "base_uri": "https://localhost:8080/",
     "height": 1000
    },
    "id": "7AqwUe7gqazh",
    "outputId": "03b5c3c8-74f4-46f3-95b7-f404502f0858"
   },
   "outputs": [
    {
     "data": {
      "image/png": "[encoded data removed]",
      "text/plain": [
       "<Figure size 640x480 with 1 Axes>"
      ]
     },
     "metadata": {},
     "output_type": "display_data"
    },
    {
     "data": {
      "image/png": "[encoded data removed]",
      "text/plain": [
       "<Figure size 640x480 with 1 Axes>"
      ]
     },
     "metadata": {},
     "output_type": "display_data"
    },
    {
     "data": {
      "image/png": "[encoded data removed]",
      "text/plain": [
       "<Figure size 640x480 with 1 Axes>"
      ]
     },
     "metadata": {},
     "output_type": "display_data"
    },
    {
     "data": {
      "image/png": "[encoded data removed]",
      "text/plain": [
       "<Figure size 640x480 with 1 Axes>"
      ]
     },
     "metadata": {},
     "output_type": "display_data"
    },
    {
     "data": {
      "image/png": "[encoded data removed]",
      "text/plain": [
       "<Figure size 640x480 with 1 Axes>"
      ]
     },
     "metadata": {},
     "output_type": "display_data"
    }
   ],
   "source": [
    "randomNolist=[]\n",
    "for i in range(5):\n",
    "  randomNolist.append(random.randint(0,100))\n",
    "for i in randomNolist:\n",
    "  label = train_labels[i]\n",
    "  pixel = train_images[i]\n",
    "  pixel = np.array(pixel, dtype='uint8')\n",
    "  # pixel = pixel.reshape((28,28))\n",
    "  plt.title('Label is {label}'.format(label=label))\n",
    "  plt.imshow(pixel, cmap='gray')\n",
    "  plt.show()"
   ]
  },
  {
   "cell_type": "markdown",
   "metadata": {
    "id": "9-MHkzDkqazh"
   },
   "source": [
    "# **Flattening**"
   ]
  },
  {
   "cell_type": "markdown",
   "metadata": {
    "id": "RjNjQLQ2qazh"
   },
   "source": [
    "## **Flatten Images**"
   ]
  },
  {
   "cell_type": "code",
   "execution_count": null,
   "metadata": {
    "colab": {
     "base_uri": "https://localhost:8080/"
    },
    "id": "Ti7KZW58qazh",
    "outputId": "99ab9934-1d44-4b41-b4b2-728c06f3ce5d"
   },
   "outputs": [
    {
     "data": {
      "text/plain": [
       "array([0.23137255, 0.24313725, 0.24705882, ..., 0.48235294, 0.36078431,\n",
       "       0.28235294])"
      ]
     },
     "execution_count": 48,
     "metadata": {},
     "output_type": "execute_result"
    }
   ],
   "source": [
    "# x_train = train_images.reshape(train_images.shape[0], -1)\n",
    "# x_test = test_images.reshape(test_images.shape[0], -1)"
   ]
  },
  {
   "cell_type": "markdown",
   "metadata": {
    "id": "yIJA_y3Lqazh"
   },
   "source": [
    "## **Flatten Labels**"
   ]
  },
  {
   "cell_type": "code",
   "execution_count": null,
   "metadata": {
    "id": "saYy-I0_qazh"
   },
   "outputs": [],
   "source": [
    "y_train = train_labels.ravel()\n",
    "y_test = test_labels.ravel()"
   ]
  },
  {
   "cell_type": "markdown",
   "metadata": {
    "id": "rFJU06Y2qazh"
   },
   "source": [
    "# **Normalizing**"
   ]
  },
  {
   "cell_type": "code",
   "execution_count": null,
   "metadata": {
    "id": "C0BslRRmqazh"
   },
   "outputs": [],
   "source": [
    "from sklearn.preprocessing import MinMaxScaler\n",
    "min_max_scaler = MinMaxScaler()\n",
    "x_train = min_max_scaler.fit_transform(x_train)\n",
    "x_test = min_max_scaler.fit_transform(x_test)"
   ]
  },
  {
   "cell_type": "markdown",
   "metadata": {
    "id": "S-fr2Z2pqazi"
   },
   "source": [
    "#**Training Without Splitting the dataset**"
   ]
  },
  {
   "cell_type": "code",
   "execution_count": null,
   "metadata": {
    "id": "JVYKEzzvqazi"
   },
   "outputs": [],
   "source": [
    "rf_classifier = RandomForestClassifier(n_estimators=100, random_state=42)"
   ]
  },
  {
   "cell_type": "code",
   "execution_count": null,
   "metadata": {
    "colab": {
     "base_uri": "https://localhost:8080/",
     "height": 75
    },
    "id": "jj9RFQQ6qazi",
    "outputId": "5411e85f-9746-4350-d29a-aeb8ad515bb5"
   },
   "outputs": [
    {
     "data": {
      "text/html": [
       "<style>#sk-container-id-3 {color: black;background-color: white;}#sk-container-id-3 pre{padding: 0;}#sk-container-id-3 div.sk-toggleable {background-color: white;}#sk-container-id-3 label.sk-toggleable__label {cursor: pointer;display: block;width: 100%;margin-bottom: 0;padding: 0.3em;box-sizing: border-box;text-align: center;}#sk-container-id-3 label.sk-toggleable__label-arrow:before {content: \"▸\";float: left;margin-right: 0.25em;color: #696969;}#sk-container-id-3 label.sk-toggleable__label-arrow:hover:before {color: black;}#sk-container-id-3 div.sk-estimator:hover label.sk-toggleable__label-arrow:before {color: black;}#sk-container-id-3 div.sk-toggleable__content {max-height: 0;max-width: 0;overflow: hidden;text-align: left;background-color: #f0f8ff;}#sk-container-id-3 div.sk-toggleable__content pre {margin: 0.2em;color: black;border-radius: 0.25em;background-color: #f0f8ff;}#sk-container-id-3 input.sk-toggleable__control:checked~div.sk-toggleable__content {max-height: 200px;max-width: 100%;overflow: auto;}#sk-container-id-3 input.sk-toggleable__control:checked~label.sk-toggleable__label-arrow:before {content: \"▾\";}#sk-container-id-3 div.sk-estimator input.sk-toggleable__control:checked~label.sk-toggleable__label {background-color: #d4ebff;}#sk-container-id-3 div.sk-label input.sk-toggleable__control:checked~label.sk-toggleable__label {background-color: #d4ebff;}#sk-container-id-3 input.sk-hidden--visually {border: 0;clip: rect(1px 1px 1px 1px);clip: rect(1px, 1px, 1px, 1px);height: 1px;margin: -1px;overflow: hidden;padding: 0;position: absolute;width: 1px;}#sk-container-id-3 div.sk-estimator {font-family: monospace;background-color: #f0f8ff;border: 1px dotted black;border-radius: 0.25em;box-sizing: border-box;margin-bottom: 0.5em;}#sk-container-id-3 div.sk-estimator:hover {background-color: #d4ebff;}#sk-container-id-3 div.sk-parallel-item::after {content: \"\";width: 100%;border-bottom: 1px solid gray;flex-grow: 1;}#sk-container-id-3 div.sk-label:hover label.sk-toggleable__label {background-color: #d4ebff;}#sk-container-id-3 div.sk-serial::before {content: \"\";position: absolute;border-left: 1px solid gray;box-sizing: border-box;top: 0;bottom: 0;left: 50%;z-index: 0;}#sk-container-id-3 div.sk-serial {display: flex;flex-direction: column;align-items: center;background-color: white;padding-right: 0.2em;padding-left: 0.2em;position: relative;}#sk-container-id-3 div.sk-item {position: relative;z-index: 1;}#sk-container-id-3 div.sk-parallel {display: flex;align-items: stretch;justify-content: center;background-color: white;position: relative;}#sk-container-id-3 div.sk-item::before, #sk-container-id-3 div.sk-parallel-item::before {content: \"\";position: absolute;border-left: 1px solid gray;box-sizing: border-box;top: 0;bottom: 0;left: 50%;z-index: -1;}#sk-container-id-3 div.sk-parallel-item {display: flex;flex-direction: column;z-index: 1;position: relative;background-color: white;}#sk-container-id-3 div.sk-parallel-item:first-child::after {align-self: flex-end;width: 50%;}#sk-container-id-3 div.sk-parallel-item:last-child::after {align-self: flex-start;width: 50%;}#sk-container-id-3 div.sk-parallel-item:only-child::after {width: 0;}#sk-container-id-3 div.sk-dashed-wrapped {border: 1px dashed gray;margin: 0 0.4em 0.5em 0.4em;box-sizing: border-box;padding-bottom: 0.4em;background-color: white;}#sk-container-id-3 div.sk-label label {font-family: monospace;font-weight: bold;display: inline-block;line-height: 1.2em;}#sk-container-id-3 div.sk-label-container {text-align: center;}#sk-container-id-3 div.sk-container {/* jupyter's `normalize.less` sets `[hidden] { display: none; }` but bootstrap.min.css set `[hidden] { display: none !important; }` so we also need the `!important` here to be able to override the default hidden behavior on the sphinx rendered scikit-learn.org. See: https://github.com/scikit-learn/scikit-learn/issues/21755 */display: inline-block !important;position: relative;}#sk-container-id-3 div.sk-text-repr-fallback {display: none;}</style><div id=\"sk-container-id-3\" class=\"sk-top-container\"><div class=\"sk-text-repr-fallback\"><pre>RandomForestClassifier(random_state=42)</pre><b>In a Jupyter environment, please rerun this cell to show the HTML representation or trust the notebook. <br />On GitHub, the HTML representation is unable to render, please try loading this page with nbviewer.org.</b></div><div class=\"sk-container\" hidden><div class=\"sk-item\"><div class=\"sk-estimator sk-toggleable\"><input class=\"sk-toggleable__control sk-hidden--visually\" id=\"sk-estimator-id-3\" type=\"checkbox\" checked><label for=\"sk-estimator-id-3\" class=\"sk-toggleable__label sk-toggleable__label-arrow\">RandomForestClassifier</label><div class=\"sk-toggleable__content\"><pre>RandomForestClassifier(random_state=42)</pre></div></div></div></div></div>"
      ],
      "text/plain": [
       "RandomForestClassifier(random_state=42)"
      ]
     },
     "execution_count": 52,
     "metadata": {},
     "output_type": "execute_result"
    }
   ],
   "source": [
    "rf_classifier.fit(x_train, y_train)"
   ]
  },
  {
   "cell_type": "markdown",
   "metadata": {
    "id": "xt3Jyxdhqazi"
   },
   "source": [
    "##**Predict Testing Label**"
   ]
  },
  {
   "cell_type": "code",
   "execution_count": null,
   "metadata": {
    "id": "gBJCp2TAqazi"
   },
   "outputs": [],
   "source": [
    "y_pred = rf_classifier.predict(x_test)"
   ]
  },
  {
   "cell_type": "code",
   "execution_count": null,
   "metadata": {
    "colab": {
     "base_uri": "https://localhost:8080/"
    },
    "id": "5n4DRyvGqazi",
    "outputId": "04a821de-7e1b-49d9-993d-eb348af1f19c"
   },
   "outputs": [
    {
     "name": "stdout",
     "output_type": "stream",
     "text": [
      "Accuracy: 0.47\n",
      "\n",
      "Classification Report:\n",
      "               precision    recall  f1-score   support\n",
      "\n",
      "           0       0.54      0.56      0.55      1000\n",
      "           1       0.52      0.54      0.53      1000\n",
      "           2       0.38      0.33      0.35      1000\n",
      "           3       0.33      0.28      0.30      1000\n",
      "           4       0.39      0.38      0.39      1000\n",
      "           5       0.43      0.40      0.41      1000\n",
      "           6       0.47      0.57      0.52      1000\n",
      "           7       0.51      0.45      0.48      1000\n",
      "           8       0.58      0.61      0.59      1000\n",
      "           9       0.47      0.52      0.50      1000\n",
      "\n",
      "    accuracy                           0.47     10000\n",
      "   macro avg       0.46      0.47      0.46     10000\n",
      "weighted avg       0.46      0.47      0.46     10000\n",
      "\n"
     ]
    }
   ],
   "source": [
    "accuracy = accuracy_score(y_test, y_pred)\n",
    "classification_rep = classification_report(y_test, y_pred)\n",
    "\n",
    "# Print the results\n",
    "print(f\"Accuracy: {accuracy:.2f}\")\n",
    "print(\"\\nClassification Report:\\n\", classification_rep)"
   ]
  },
  {
   "cell_type": "markdown",
   "metadata": {
    "id": "OmLp_rNmqazi"
   },
   "source": [
    "#**Split Dataset 80:20**"
   ]
  },
  {
   "cell_type": "markdown",
   "metadata": {
    "id": "bePNAyW8qazi"
   },
   "source": [
    "##**Splitting Datset**"
   ]
  },
  {
   "cell_type": "code",
   "execution_count": null,
   "metadata": {
    "id": "5cbRn9_Rqazj"
   },
   "outputs": [],
   "source": [
    "X_train, X_test, Y_train, Y_test = train_test_split(x_train, y_train, test_size=0.2, random_state=42)"
   ]
  },
  {
   "cell_type": "markdown",
   "metadata": {
    "id": "SATaVLY9qazj"
   },
   "source": [
    "##**Model Training**"
   ]
  },
  {
   "cell_type": "code",
   "execution_count": null,
   "metadata": {
    "id": "CeTf34-3qazj"
   },
   "outputs": [],
   "source": [
    "rf_classifier = RandomForestClassifier(n_estimators=100, random_state=42)"
   ]
  },
  {
   "cell_type": "code",
   "execution_count": null,
   "metadata": {
    "colab": {
     "base_uri": "https://localhost:8080/",
     "height": 75
    },
    "id": "t53SwQL_qazj",
    "outputId": "8a49ef57-786c-432b-efe5-8bfc139536ec"
   },
   "outputs": [
    {
     "data": {
      "text/html": [
       "<style>#sk-container-id-4 {color: black;background-color: white;}#sk-container-id-4 pre{padding: 0;}#sk-container-id-4 div.sk-toggleable {background-color: white;}#sk-container-id-4 label.sk-toggleable__label {cursor: pointer;display: block;width: 100%;margin-bottom: 0;padding: 0.3em;box-sizing: border-box;text-align: center;}#sk-container-id-4 label.sk-toggleable__label-arrow:before {content: \"▸\";float: left;margin-right: 0.25em;color: #696969;}#sk-container-id-4 label.sk-toggleable__label-arrow:hover:before {color: black;}#sk-container-id-4 div.sk-estimator:hover label.sk-toggleable__label-arrow:before {color: black;}#sk-container-id-4 div.sk-toggleable__content {max-height: 0;max-width: 0;overflow: hidden;text-align: left;background-color: #f0f8ff;}#sk-container-id-4 div.sk-toggleable__content pre {margin: 0.2em;color: black;border-radius: 0.25em;background-color: #f0f8ff;}#sk-container-id-4 input.sk-toggleable__control:checked~div.sk-toggleable__content {max-height: 200px;max-width: 100%;overflow: auto;}#sk-container-id-4 input.sk-toggleable__control:checked~label.sk-toggleable__label-arrow:before {content: \"▾\";}#sk-container-id-4 div.sk-estimator input.sk-toggleable__control:checked~label.sk-toggleable__label {background-color: #d4ebff;}#sk-container-id-4 div.sk-label input.sk-toggleable__control:checked~label.sk-toggleable__label {background-color: #d4ebff;}#sk-container-id-4 input.sk-hidden--visually {border: 0;clip: rect(1px 1px 1px 1px);clip: rect(1px, 1px, 1px, 1px);height: 1px;margin: -1px;overflow: hidden;padding: 0;position: absolute;width: 1px;}#sk-container-id-4 div.sk-estimator {font-family: monospace;background-color: #f0f8ff;border: 1px dotted black;border-radius: 0.25em;box-sizing: border-box;margin-bottom: 0.5em;}#sk-container-id-4 div.sk-estimator:hover {background-color: #d4ebff;}#sk-container-id-4 div.sk-parallel-item::after {content: \"\";width: 100%;border-bottom: 1px solid gray;flex-grow: 1;}#sk-container-id-4 div.sk-label:hover label.sk-toggleable__label {background-color: #d4ebff;}#sk-container-id-4 div.sk-serial::before {content: \"\";position: absolute;border-left: 1px solid gray;box-sizing: border-box;top: 0;bottom: 0;left: 50%;z-index: 0;}#sk-container-id-4 div.sk-serial {display: flex;flex-direction: column;align-items: center;background-color: white;padding-right: 0.2em;padding-left: 0.2em;position: relative;}#sk-container-id-4 div.sk-item {position: relative;z-index: 1;}#sk-container-id-4 div.sk-parallel {display: flex;align-items: stretch;justify-content: center;background-color: white;position: relative;}#sk-container-id-4 div.sk-item::before, #sk-container-id-4 div.sk-parallel-item::before {content: \"\";position: absolute;border-left: 1px solid gray;box-sizing: border-box;top: 0;bottom: 0;left: 50%;z-index: -1;}#sk-container-id-4 div.sk-parallel-item {display: flex;flex-direction: column;z-index: 1;position: relative;background-color: white;}#sk-container-id-4 div.sk-parallel-item:first-child::after {align-self: flex-end;width: 50%;}#sk-container-id-4 div.sk-parallel-item:last-child::after {align-self: flex-start;width: 50%;}#sk-container-id-4 div.sk-parallel-item:only-child::after {width: 0;}#sk-container-id-4 div.sk-dashed-wrapped {border: 1px dashed gray;margin: 0 0.4em 0.5em 0.4em;box-sizing: border-box;padding-bottom: 0.4em;background-color: white;}#sk-container-id-4 div.sk-label label {font-family: monospace;font-weight: bold;display: inline-block;line-height: 1.2em;}#sk-container-id-4 div.sk-label-container {text-align: center;}#sk-container-id-4 div.sk-container {/* jupyter's `normalize.less` sets `[hidden] { display: none; }` but bootstrap.min.css set `[hidden] { display: none !important; }` so we also need the `!important` here to be able to override the default hidden behavior on the sphinx rendered scikit-learn.org. See: https://github.com/scikit-learn/scikit-learn/issues/21755 */display: inline-block !important;position: relative;}#sk-container-id-4 div.sk-text-repr-fallback {display: none;}</style><div id=\"sk-container-id-4\" class=\"sk-top-container\"><div class=\"sk-text-repr-fallback\"><pre>RandomForestClassifier(random_state=42)</pre><b>In a Jupyter environment, please rerun this cell to show the HTML representation or trust the notebook. <br />On GitHub, the HTML representation is unable to render, please try loading this page with nbviewer.org.</b></div><div class=\"sk-container\" hidden><div class=\"sk-item\"><div class=\"sk-estimator sk-toggleable\"><input class=\"sk-toggleable__control sk-hidden--visually\" id=\"sk-estimator-id-4\" type=\"checkbox\" checked><label for=\"sk-estimator-id-4\" class=\"sk-toggleable__label sk-toggleable__label-arrow\">RandomForestClassifier</label><div class=\"sk-toggleable__content\"><pre>RandomForestClassifier(random_state=42)</pre></div></div></div></div></div>"
      ],
      "text/plain": [
       "RandomForestClassifier(random_state=42)"
      ]
     },
     "execution_count": 57,
     "metadata": {},
     "output_type": "execute_result"
    }
   ],
   "source": [
    "rf_classifier.fit(X_train, Y_train)"
   ]
  },
  {
   "cell_type": "markdown",
   "metadata": {
    "id": "V6vbt_Riqazj"
   },
   "source": [
    "##**Predict Validation Label**"
   ]
  },
  {
   "cell_type": "code",
   "execution_count": null,
   "metadata": {
    "id": "KkBfutzsqazj"
   },
   "outputs": [],
   "source": [
    "y_pred = rf_classifier.predict(X_test)"
   ]
  },
  {
   "cell_type": "code",
   "execution_count": null,
   "metadata": {
    "colab": {
     "base_uri": "https://localhost:8080/"
    },
    "id": "Miru8Jy5qazj",
    "outputId": "13204309-911a-477b-c138-c64d1dc48869"
   },
   "outputs": [
    {
     "name": "stdout",
     "output_type": "stream",
     "text": [
      "Accuracy: 0.45\n",
      "\n",
      "Classification Report:\n",
      "               precision    recall  f1-score   support\n",
      "\n",
      "           0       0.51      0.52      0.51       973\n",
      "           1       0.47      0.53      0.50       979\n",
      "           2       0.37      0.29      0.33      1030\n",
      "           3       0.35      0.28      0.31      1023\n",
      "           4       0.35      0.41      0.38       933\n",
      "           5       0.40      0.36      0.38      1015\n",
      "           6       0.46      0.55      0.50       996\n",
      "           7       0.50      0.45      0.48       994\n",
      "           8       0.58      0.59      0.58      1017\n",
      "           9       0.50      0.56      0.53      1040\n",
      "\n",
      "    accuracy                           0.45     10000\n",
      "   macro avg       0.45      0.45      0.45     10000\n",
      "weighted avg       0.45      0.45      0.45     10000\n",
      "\n"
     ]
    }
   ],
   "source": [
    "accuracy = accuracy_score(Y_test, y_pred)\n",
    "classification_rep = classification_report(Y_test, y_pred)\n",
    "\n",
    "# Print the results\n",
    "print(f\"Accuracy: {accuracy:.2f}\")\n",
    "print(\"\\nClassification Report:\\n\", classification_rep)"
   ]
  },
  {
   "cell_type": "markdown",
   "metadata": {
    "id": "NHOiwhA_qazj"
   },
   "source": [
    "##**Predict Testing Label**"
   ]
  },
  {
   "cell_type": "code",
   "execution_count": null,
   "metadata": {
    "id": "xl2pI9P9qazj"
   },
   "outputs": [],
   "source": [
    "y_pred = rf_classifier.predict(x_test)"
   ]
  },
  {
   "cell_type": "code",
   "execution_count": null,
   "metadata": {
    "colab": {
     "base_uri": "https://localhost:8080/"
    },
    "id": "DSxJgis4qazj",
    "outputId": "21f56c6a-74af-4ff3-9144-22c6fef6bbad"
   },
   "outputs": [
    {
     "data": {
      "text/plain": [
       "(10000,)"
      ]
     },
     "execution_count": 61,
     "metadata": {},
     "output_type": "execute_result"
    }
   ],
   "source": [
    "y_pred.shape"
   ]
  },
  {
   "cell_type": "code",
   "execution_count": null,
   "metadata": {
    "colab": {
     "base_uri": "https://localhost:8080/"
    },
    "id": "fJrbTvJfqazj",
    "outputId": "4f3fd765-fec9-4a00-c37a-e9c9af3b18c0"
   },
   "outputs": [
    {
     "data": {
      "text/plain": [
       "(10000,)"
      ]
     },
     "execution_count": 62,
     "metadata": {},
     "output_type": "execute_result"
    }
   ],
   "source": [
    "y_test.shape"
   ]
  },
  {
   "cell_type": "code",
   "execution_count": null,
   "metadata": {
    "colab": {
     "base_uri": "https://localhost:8080/"
    },
    "id": "MknpBaVAqazj",
    "outputId": "81a6f90b-251a-4f22-c54f-175cfd44edb7"
   },
   "outputs": [
    {
     "name": "stdout",
     "output_type": "stream",
     "text": [
      "Accuracy: 0.46\n",
      "\n",
      "Classification Report:\n",
      "               precision    recall  f1-score   support\n",
      "\n",
      "           0       0.53      0.55      0.54      1000\n",
      "           1       0.51      0.55      0.53      1000\n",
      "           2       0.36      0.31      0.34      1000\n",
      "           3       0.35      0.28      0.31      1000\n",
      "           4       0.38      0.39      0.39      1000\n",
      "           5       0.42      0.39      0.40      1000\n",
      "           6       0.46      0.53      0.49      1000\n",
      "           7       0.50      0.44      0.47      1000\n",
      "           8       0.58      0.62      0.60      1000\n",
      "           9       0.48      0.54      0.51      1000\n",
      "\n",
      "    accuracy                           0.46     10000\n",
      "   macro avg       0.46      0.46      0.46     10000\n",
      "weighted avg       0.46      0.46      0.46     10000\n",
      "\n"
     ]
    }
   ],
   "source": [
    "accuracy = accuracy_score(y_test, y_pred)\n",
    "classification_rep = classification_report(y_test, y_pred)\n",
    "\n",
    "# Print the results\n",
    "print(f\"Accuracy: {accuracy:.2f}\")\n",
    "print(\"\\nClassification Report:\\n\", classification_rep)"
   ]
  },
  {
   "cell_type": "markdown",
   "metadata": {
    "id": "xlfHJrzJqazk"
   },
   "source": [
    "#**3 Fold Cross Validation**"
   ]
  },
  {
   "cell_type": "code",
   "execution_count": null,
   "metadata": {
    "colab": {
     "base_uri": "https://localhost:8080/"
    },
    "id": "QZV-ndrdqazk",
    "outputId": "2e25eb97-d2c4-4e84-8300-f8e1ae29bbc9"
   },
   "outputs": [
    {
     "name": "stdout",
     "output_type": "stream",
     "text": [
      "Fold 1 Accuracy: 45.80%\n",
      "Fold 2 Accuracy: 45.17%\n",
      "Fold 3 Accuracy: 45.42%\n",
      "\n",
      "Mean Accuracy: 45.46%\n",
      "Standard Deviation: 0.26%\n"
     ]
    }
   ],
   "source": [
    "rf_classifier = RandomForestClassifier(n_estimators=100)\n",
    "\n",
    "# Perform 3-fold cross-validation\n",
    "scores = cross_val_score(rf_classifier, x_train, y_train, cv=3, scoring='accuracy')\n",
    "\n",
    "# Print the cross-validation scores\n",
    "for i, score in enumerate(scores, 1):\n",
    "    print(f'Fold {i} Accuracy: {score * 100:.2f}%')\n",
    "\n",
    "# Print the mean and standard deviation of the cross-validation scores\n",
    "print(f'\\nMean Accuracy: {np.mean(scores) * 100:.2f}%')\n",
    "print(f'Standard Deviation: {np.std(scores) * 100:.2f}%')"
   ]
  },
  {
   "cell_type": "markdown",
   "metadata": {},
   "source": [
    "#**5 Fold Cross Validation**"
   ]
  },
  {
   "cell_type": "code",
   "execution_count": null,
   "metadata": {
    "colab": {
     "base_uri": "https://localhost:8080/"
    },
    "id": "KcjhY0uiqazk",
    "outputId": "5835253c-27dc-4322-f146-c87e36f61a35"
   },
   "outputs": [
    {
     "name": "stdout",
     "output_type": "stream",
     "text": [
      "Fold 1 Accuracy: 45.65%\n",
      "Fold 2 Accuracy: 44.80%\n",
      "Fold 3 Accuracy: 46.29%\n",
      "Fold 4 Accuracy: 45.52%\n",
      "Fold 5 Accuracy: 45.70%\n",
      "\n",
      "Mean Accuracy: 45.59%\n",
      "Standard Deviation: 0.48%\n"
     ]
    }
   ],
   "source": [
    "rf_classifier = RandomForestClassifier(n_estimators=100)\n",
    "\n",
    "# Perform 3-fold cross-validation\n",
    "scores = cross_val_score(rf_classifier, x_train, y_train, cv=5, scoring='accuracy')\n",
    "\n",
    "# Print the cross-validation scores\n",
    "for i, score in enumerate(scores, 1):\n",
    "    print(f'Fold {i} Accuracy: {score * 100:.2f}%')\n",
    "\n",
    "# Print the mean and standard deviation of the cross-validation scores\n",
    "print(f'\\nMean Accuracy: {np.mean(scores) * 100:.2f}%')\n",
    "print(f'Standard Deviation: {np.std(scores) * 100:.2f}%')"
   ]
  },
  {
   "cell_type": "markdown",
   "metadata": {},
   "source": [
    "#**10 Fold Cross Validation**"
   ]
  },
  {
   "cell_type": "code",
   "execution_count": null,
   "metadata": {
    "colab": {
     "base_uri": "https://localhost:8080/"
    },
    "id": "Ug-gIOa-qazk",
    "outputId": "f40af2e1-da3c-4b00-9e3b-e4ac43a73f2d"
   },
   "outputs": [
    {
     "name": "stdout",
     "output_type": "stream",
     "text": [
      "Fold 1 Accuracy: 47.32%\n",
      "Fold 2 Accuracy: 45.96%\n",
      "Fold 3 Accuracy: 47.04%\n",
      "Fold 4 Accuracy: 44.62%\n",
      "Fold 5 Accuracy: 47.10%\n",
      "Fold 6 Accuracy: 46.60%\n",
      "Fold 7 Accuracy: 45.74%\n",
      "Fold 8 Accuracy: 46.08%\n",
      "Fold 9 Accuracy: 45.68%\n",
      "Fold 10 Accuracy: 45.94%\n",
      "\n",
      "Mean Accuracy: 46.21%\n",
      "Standard Deviation: 0.78%\n"
     ]
    }
   ],
   "source": [
    "rf_classifier = RandomForestClassifier(n_estimators=100)\n",
    "\n",
    "# Perform 3-fold cross-validation\n",
    "scores = cross_val_score(rf_classifier, x_train, y_train, cv=10, scoring='accuracy')\n",
    "\n",
    "# Print the cross-validation scores\n",
    "for i, score in enumerate(scores, 1):\n",
    "    print(f'Fold {i} Accuracy: {score * 100:.2f}%')\n",
    "\n",
    "# Print the mean and standard deviation of the cross-validation scores\n",
    "print(f'\\nMean Accuracy: {np.mean(scores) * 100:.2f}%')\n",
    "print(f'Standard Deviation: {np.std(scores) * 100:.2f}%')"
   ]
  },
  {
   "cell_type": "code",
   "execution_count": null,
   "metadata": {
    "id": "0igHz-XpqKYK"
   },
   "outputs": [],
   "source": []
  }
 ],
 "metadata": {
  "accelerator": "GPU",
  "colab": {
   "gpuType": "T4",
   "provenance": []
  },
  "kernelspec": {
   "display_name": "Python 3 (ipykernel)",
   "language": "python",
   "name": "python3"
  },
  "language_info": {
   "codemirror_mode": {
    "name": "ipython",
    "version": 3
   },
   "file_extension": ".py",
   "mimetype": "text/x-python",
   "name": "python",
   "nbconvert_exporter": "python",
   "pygments_lexer": "ipython3",
   "version": "3.11.5"
  }
 },
 "nbformat": 4,
 "nbformat_minor": 1
}
